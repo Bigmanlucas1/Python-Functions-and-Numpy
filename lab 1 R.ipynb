{
 "cells": [
  {
   "cell_type": "code",
   "execution_count": 2,
   "id": "b422cc0a",
   "metadata": {},
   "outputs": [],
   "source": [
    "import numpy as np\n",
    "import pandas as pd\n",
    "import math"
   ]
  },
  {
   "cell_type": "code",
   "execution_count": 8,
   "id": "07f55c47",
   "metadata": {},
   "outputs": [],
   "source": [
    "# Part-I: Sigmoid Function\n",
    "# 1. Function using math.exp()\n",
    "def mysigmoid(x):\n",
    "    return 1 / (1 + math.exp(-x))"
   ]
  },
  {
   "cell_type": "code",
   "execution_count": 10,
   "id": "d2c3040a",
   "metadata": {},
   "outputs": [
    {
     "name": "stdout",
     "output_type": "stream",
     "text": [
      "Sigmoid value of 4: 0.9820137900379085\n"
     ]
    }
   ],
   "source": [
    "# 2. Call mysigmoid() with x=4\n",
    "sigmoid_4 = mysigmoid(4)\n",
    "print(\"Sigmoid value of 4:\", sigmoid_4)"
   ]
  },
  {
   "cell_type": "code",
   "execution_count": 11,
   "id": "382d2412",
   "metadata": {},
   "outputs": [
    {
     "name": "stdout",
     "output_type": "stream",
     "text": [
      "Sigmoid values for x=[1, 2, 3]: [0.7310585786300049, 0.8807970779778823, 0.9525741268224334]\n"
     ]
    }
   ],
   "source": [
    "# 3. Sigmoid values for x=[1, 2, 3]\n",
    "x = [1, 2, 3]\n",
    "sigmoid_x = [mysigmoid(val) for val in x]\n",
    "print(\"Sigmoid values for x=[1, 2, 3]:\", sigmoid_x)"
   ]
  },
  {
   "cell_type": "code",
   "execution_count": 12,
   "id": "6a6f1563",
   "metadata": {},
   "outputs": [],
   "source": [
    "# 4. Function using np.exp()\n",
    "def mysigmoid_np(x):\n",
    "    x = np.array(x)  # Convert x to a NumPy array\n",
    "    return 1 / (1 + np.exp(-x))"
   ]
  },
  {
   "cell_type": "code",
   "execution_count": 13,
   "id": "55a92c0e",
   "metadata": {},
   "outputs": [
    {
     "name": "stdout",
     "output_type": "stream",
     "text": [
      "Sigmoid values for x=[1, 2, 3] (using np.exp()): [0.73105858 0.88079708 0.95257413]\n"
     ]
    }
   ],
   "source": [
    "# 5. Call the function with x=[1, 2, 3]\n",
    "sigmoid_x_np = mysigmoid_np(x)\n",
    "print(\"Sigmoid values for x=[1, 2, 3] (using np.exp()):\", sigmoid_x_np)"
   ]
  },
  {
   "cell_type": "code",
   "execution_count": 14,
   "id": "fa01db8a",
   "metadata": {},
   "outputs": [],
   "source": [
    "# 6. Scalar vs. Vector\n",
    "scalar = 2\n",
    "vector = np.array([1, 2, 3])"
   ]
  },
  {
   "cell_type": "code",
   "execution_count": 15,
   "id": "bc0d9e5d",
   "metadata": {},
   "outputs": [
    {
     "name": "stdout",
     "output_type": "stream",
     "text": [
      "Scalar multiplied by 2: 4\n",
      "Vector multiplied by 2: [2 4 6]\n"
     ]
    }
   ],
   "source": [
    "print(\"Scalar multiplied by 2:\", scalar * 2)\n",
    "print(\"Vector multiplied by 2:\", vector * 2)"
   ]
  },
  {
   "cell_type": "code",
   "execution_count": 16,
   "id": "bfbe0811",
   "metadata": {},
   "outputs": [],
   "source": [
    "# Part-II: Gradient of Sigmoid Function"
   ]
  },
  {
   "cell_type": "code",
   "execution_count": 17,
   "id": "041e523f",
   "metadata": {},
   "outputs": [],
   "source": [
    "# Function to compute sigmoid derivative\n",
    "def sig_derivative(s):\n",
    "    sigmoid_value = mysigmoid(s)\n",
    "    return sigmoid_value * (1 - sigmoid_value)"
   ]
  },
  {
   "cell_type": "code",
   "execution_count": 18,
   "id": "cb9d8ea2",
   "metadata": {},
   "outputs": [
    {
     "name": "stdout",
     "output_type": "stream",
     "text": [
      "Sigmoid derivative for s=0.7: 0.22171287329310904\n"
     ]
    }
   ],
   "source": [
    "# Call the function with a sigmoid value\n",
    "s = 0.7\n",
    "sigmoid_derivative = sig_derivative(s)\n",
    "print(\"Sigmoid derivative for s=0.7:\", sigmoid_derivative)"
   ]
  },
  {
   "cell_type": "code",
   "execution_count": 19,
   "id": "15d07bb1",
   "metadata": {},
   "outputs": [],
   "source": [
    "# Part-II: Gradient or derivative of sigmoid function"
   ]
  },
  {
   "cell_type": "code",
   "execution_count": 20,
   "id": "e77f97f7",
   "metadata": {},
   "outputs": [],
   "source": [
    "def sig_derivative(s):\n",
    "    sigmoid_value = mysigmoid(s)\n",
    "    return sigmoid_value * (1 - sigmoid_value)\n"
   ]
  },
  {
   "cell_type": "code",
   "execution_count": 21,
   "id": "8c3b6e94",
   "metadata": {},
   "outputs": [],
   "source": [
    "# Part-III: image_to_vector()\n"
   ]
  },
  {
   "cell_type": "code",
   "execution_count": 22,
   "id": "ec8bd0fb",
   "metadata": {},
   "outputs": [],
   "source": [
    "def image_to_vector(image):\n",
    "    length, height, depth = image.shape\n",
    "    vector = image.reshape((length * height * depth, 1))\n",
    "    return vector"
   ]
  },
  {
   "cell_type": "code",
   "execution_count": 23,
   "id": "3f471279",
   "metadata": {},
   "outputs": [
    {
     "name": "stdout",
     "output_type": "stream",
     "text": [
      "Image shape: (3, 3, 3)\n",
      "Vector shape: (27, 1)\n",
      "Vector:\n",
      "[[ 1]\n",
      " [ 2]\n",
      " [ 3]\n",
      " [ 4]\n",
      " [ 5]\n",
      " [ 6]\n",
      " [ 7]\n",
      " [ 8]\n",
      " [ 9]\n",
      " [10]\n",
      " [11]\n",
      " [12]\n",
      " [13]\n",
      " [14]\n",
      " [15]\n",
      " [16]\n",
      " [17]\n",
      " [18]\n",
      " [19]\n",
      " [20]\n",
      " [21]\n",
      " [22]\n",
      " [23]\n",
      " [24]\n",
      " [25]\n",
      " [26]\n",
      " [27]]\n"
     ]
    }
   ],
   "source": [
    "# Test with a 3x3x2 array of RGB color values\n",
    "image = np.array([[[1, 2, 3], [4, 5, 6], [7, 8, 9]],\n",
    "                  [[10, 11, 12], [13, 14, 15], [16, 17, 18]],\n",
    "                  [[19, 20, 21], [22, 23, 24], [25, 26, 27]]])\n",
    "vector = image_to_vector(image)\n",
    "print(\"Image shape:\", image.shape)\n",
    "print(\"Vector shape:\", vector.shape)\n",
    "print(\"Vector:\")\n",
    "print(vector)"
   ]
  },
  {
   "cell_type": "code",
   "execution_count": 24,
   "id": "0a21f8b1",
   "metadata": {},
   "outputs": [],
   "source": [
    "# Part-IV: normalizeRows()\n"
   ]
  },
  {
   "cell_type": "code",
   "execution_count": 25,
   "id": "793812e4",
   "metadata": {},
   "outputs": [],
   "source": [
    "def normalizeRows(matrix):\n",
    "    norms = np.linalg.norm(matrix, axis=1, keepdims=True)\n",
    "    return matrix / norms\n"
   ]
  },
  {
   "cell_type": "code",
   "execution_count": 26,
   "id": "0b873783",
   "metadata": {},
   "outputs": [
    {
     "name": "stdout",
     "output_type": "stream",
     "text": [
      "Original matrix:\n",
      "[[1 2 3]\n",
      " [4 5 6]\n",
      " [7 8 9]]\n",
      "Normalized matrix:\n",
      "[[0.26726124 0.53452248 0.80178373]\n",
      " [0.45584231 0.56980288 0.68376346]\n",
      " [0.50257071 0.57436653 0.64616234]]\n"
     ]
    }
   ],
   "source": [
    "# Test with a matrix\n",
    "matrix = np.array([[1, 2, 3], [4, 5, 6], [7, 8, 9]])\n",
    "normalized_matrix = normalizeRows(matrix)\n",
    "print(\"Original matrix:\")\n",
    "print(matrix)\n",
    "print(\"Normalized matrix:\")\n",
    "print(normalized_matrix)"
   ]
  },
  {
   "cell_type": "code",
   "execution_count": 27,
   "id": "20a54d2d",
   "metadata": {},
   "outputs": [],
   "source": [
    "# Part-V: Multiplication and Vectorization Operations"
   ]
  },
  {
   "cell_type": "code",
   "execution_count": 28,
   "id": "0c344b0d",
   "metadata": {},
   "outputs": [
    {
     "name": "stdout",
     "output_type": "stream",
     "text": [
      "Multiplication result (manual): [63  4 10]\n",
      "Dot product result (manual): 77\n"
     ]
    }
   ],
   "source": [
    "# a) Multiplication and dot product of two vectors\n",
    "x1 = np.array([9, 2, 5])\n",
    "x2 = np.array([7, 2, 2])\n",
    "\n",
    "multiplication_result = np.multiply(x1, x2)\n",
    "dot_product_result = np.dot(x1, x2)\n",
    "\n",
    "print(\"Multiplication result (manual):\", multiplication_result)\n",
    "print(\"Dot product result (manual):\", dot_product_result)\n"
   ]
  },
  {
   "cell_type": "code",
   "execution_count": 29,
   "id": "add046b8",
   "metadata": {},
   "outputs": [
    {
     "name": "stdout",
     "output_type": "stream",
     "text": [
      "Multiplication result (manual): [63  4 10  0  0 63 10  0  0  0 81  4 25  0  0 32 25 21]\n",
      "Dot product result (manual): 338\n"
     ]
    }
   ],
   "source": [
    "# b) Multiplication and dot product of two longer vectors\n",
    "x1 = np.array([9, 2, 5, 0, 0, 7, 5, 0, 0, 0, 9, 2, 5, 0, 0, 4, 5, 7])\n",
    "x2 = np.array([7, 2, 2, 9, 0, 9, 2, 5, 0, 0, 9, 2, 5, 0, 0, 8, 5, 3])\n",
    "\n",
    "multiplication_result = np.multiply(x1, x2)\n",
    "dot_product_result = np.dot(x1, x2)\n",
    "\n",
    "print(\"Multiplication result (manual):\", multiplication_result)\n",
    "print(\"Dot product result (manual):\", dot_product_result)"
   ]
  },
  {
   "cell_type": "code",
   "execution_count": 30,
   "id": "6be86d96",
   "metadata": {},
   "outputs": [],
   "source": [
    "# Part-VI: L1 and L2 loss functions"
   ]
  },
  {
   "cell_type": "code",
   "execution_count": 31,
   "id": "b8db2211",
   "metadata": {},
   "outputs": [],
   "source": [
    "def loss_l1(y, ypred):\n",
    "    return np.sum(np.abs(y - ypred))"
   ]
  },
  {
   "cell_type": "code",
   "execution_count": 32,
   "id": "10424193",
   "metadata": {},
   "outputs": [],
   "source": [
    "def loss_l2(y, ypred):\n",
    "    return np.sum(np.square(y - ypred))"
   ]
  },
  {
   "cell_type": "code",
   "execution_count": 33,
   "id": "bad87a0e",
   "metadata": {},
   "outputs": [],
   "source": [
    "# Test with sample vectors\n",
    "y = np.array([1, 0, 0, 1, 1])\n",
    "ypred = np.array([0.9, 0.2, 0.1, 0.4, 0.9])"
   ]
  },
  {
   "cell_type": "code",
   "execution_count": 34,
   "id": "a62745c7",
   "metadata": {},
   "outputs": [],
   "source": [
    "l1_loss = loss_l1(y, ypred)\n",
    "l2_loss = loss_l2(y, ypred)"
   ]
  },
  {
   "cell_type": "code",
   "execution_count": 35,
   "id": "7f0e85c9",
   "metadata": {},
   "outputs": [
    {
     "name": "stdout",
     "output_type": "stream",
     "text": [
      "L1 loss: 1.1\n",
      "L2 loss: 0.43\n"
     ]
    }
   ],
   "source": [
    "print(\"L1 loss:\", l1_loss)\n",
    "print(\"L2 loss:\", l2_loss)"
   ]
  },
  {
   "cell_type": "code",
   "execution_count": null,
   "id": "cfe44888",
   "metadata": {},
   "outputs": [],
   "source": []
  }
 ],
 "metadata": {
  "kernelspec": {
   "display_name": "Python 3 (ipykernel)",
   "language": "python",
   "name": "python3"
  },
  "language_info": {
   "codemirror_mode": {
    "name": "ipython",
    "version": 3
   },
   "file_extension": ".py",
   "mimetype": "text/x-python",
   "name": "python",
   "nbconvert_exporter": "python",
   "pygments_lexer": "ipython3",
   "version": "3.9.13"
  }
 },
 "nbformat": 4,
 "nbformat_minor": 5
}
